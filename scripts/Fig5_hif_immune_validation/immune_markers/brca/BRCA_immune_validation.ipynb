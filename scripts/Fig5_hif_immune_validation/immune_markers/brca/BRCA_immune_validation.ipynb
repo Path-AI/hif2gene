{
 "cells": [
  {
   "cell_type": "code",
   "execution_count": 3,
   "metadata": {},
   "outputs": [
    {
     "name": "stdout",
     "output_type": "stream",
     "text": [
      "Once deleted, variables cannot be recovered. Proceed (y/[n])? y\n"
     ]
    }
   ],
   "source": [
    "%reset\n",
    "import sys\n",
    "sys.path.append(\"/Users/jason.wang/Desktop/hif2gene/scripts/helper_functions/\") # replace path\n",
    "\n",
    "# custom modules\n",
    "import cluster_features_combine_p_values as cf\n",
    "import hypothesis_testing as ht\n",
    "\n",
    "# standard packages\n",
    "import matplotlib.pyplot as plt\n",
    "import pandas as pd\n",
    "import numpy as np\n",
    "import seaborn as sns\n",
    "from collections import Counter\n",
    "from copy import deepcopy\n",
    "import scipy.stats as stats\n",
    "import pickle as pkl\n",
    "\n",
    "%reload_ext autoreload\n",
    "%autoreload 2"
   ]
  },
  {
   "cell_type": "markdown",
   "metadata": {},
   "source": [
    "## HIF Clusters (Defined Pan-Cancer)"
   ]
  },
  {
   "cell_type": "code",
   "execution_count": 4,
   "metadata": {},
   "outputs": [
    {
     "data": {
      "text/html": [
       "<div>\n",
       "<style scoped>\n",
       "    .dataframe tbody tr th:only-of-type {\n",
       "        vertical-align: middle;\n",
       "    }\n",
       "\n",
       "    .dataframe tbody tr th {\n",
       "        vertical-align: top;\n",
       "    }\n",
       "\n",
       "    .dataframe thead th {\n",
       "        text-align: right;\n",
       "    }\n",
       "</style>\n",
       "<table border=\"1\" class=\"dataframe\">\n",
       "  <thead>\n",
       "    <tr style=\"text-align: right;\">\n",
       "      <th></th>\n",
       "      <th>HIF</th>\n",
       "      <th>Cluster Group</th>\n",
       "    </tr>\n",
       "  </thead>\n",
       "  <tbody>\n",
       "    <tr>\n",
       "      <th>0</th>\n",
       "      <td>AREA (MM2) OF [EPITHELIAL] IN [TISSUE]_HE</td>\n",
       "      <td>1</td>\n",
       "    </tr>\n",
       "    <tr>\n",
       "      <th>1</th>\n",
       "      <td>AREA (MM2) OF [ESI_0080] IN [TISSUE]_HE</td>\n",
       "      <td>1</td>\n",
       "    </tr>\n",
       "    <tr>\n",
       "      <th>2</th>\n",
       "      <td>AREA (MM2) OF [NECROSIS] IN [TISSUE]_HE</td>\n",
       "      <td>2</td>\n",
       "    </tr>\n",
       "    <tr>\n",
       "      <th>3</th>\n",
       "      <td>AREA (MM2) OF [STROMA] IN [TISSUE]_HE</td>\n",
       "      <td>3</td>\n",
       "    </tr>\n",
       "    <tr>\n",
       "      <th>4</th>\n",
       "      <td>AREA (MM2) OF [TUMOR] IN [TISSUE]_HE</td>\n",
       "      <td>1</td>\n",
       "    </tr>\n",
       "    <tr>\n",
       "      <th>...</th>\n",
       "      <td>...</td>\n",
       "      <td>...</td>\n",
       "    </tr>\n",
       "    <tr>\n",
       "      <th>602</th>\n",
       "      <td>TOTAL [MACROPHAGE CELLS] IN [TUMOR]_HE</td>\n",
       "      <td>1</td>\n",
       "    </tr>\n",
       "    <tr>\n",
       "      <th>603</th>\n",
       "      <td>TOTAL [PLASMA CELLS] IN [EPITHELIAL]_HE</td>\n",
       "      <td>1</td>\n",
       "    </tr>\n",
       "    <tr>\n",
       "      <th>604</th>\n",
       "      <td>TOTAL [PLASMA CELLS] IN [ESI_0080]_HE</td>\n",
       "      <td>9</td>\n",
       "    </tr>\n",
       "    <tr>\n",
       "      <th>605</th>\n",
       "      <td>TOTAL [PLASMA CELLS] IN [STROMA]_HE</td>\n",
       "      <td>9</td>\n",
       "    </tr>\n",
       "    <tr>\n",
       "      <th>606</th>\n",
       "      <td>TOTAL [PLASMA CELLS] IN [TUMOR]_HE</td>\n",
       "      <td>9</td>\n",
       "    </tr>\n",
       "  </tbody>\n",
       "</table>\n",
       "<p>607 rows × 2 columns</p>\n",
       "</div>"
      ],
      "text/plain": [
       "                                           HIF  Cluster Group\n",
       "0    AREA (MM2) OF [EPITHELIAL] IN [TISSUE]_HE              1\n",
       "1      AREA (MM2) OF [ESI_0080] IN [TISSUE]_HE              1\n",
       "2      AREA (MM2) OF [NECROSIS] IN [TISSUE]_HE              2\n",
       "3        AREA (MM2) OF [STROMA] IN [TISSUE]_HE              3\n",
       "4         AREA (MM2) OF [TUMOR] IN [TISSUE]_HE              1\n",
       "..                                         ...            ...\n",
       "602     TOTAL [MACROPHAGE CELLS] IN [TUMOR]_HE              1\n",
       "603    TOTAL [PLASMA CELLS] IN [EPITHELIAL]_HE              1\n",
       "604      TOTAL [PLASMA CELLS] IN [ESI_0080]_HE              9\n",
       "605        TOTAL [PLASMA CELLS] IN [STROMA]_HE              9\n",
       "606         TOTAL [PLASMA CELLS] IN [TUMOR]_HE              9\n",
       "\n",
       "[607 rows x 2 columns]"
      ]
     },
     "execution_count": 4,
     "metadata": {},
     "output_type": "execute_result"
    }
   ],
   "source": [
    "# Load in HIF groupings based on agglomerative clustering with correlation distance\n",
    "# Computed on pan-cancer patient-level dataset after removing rows with high NA (missingness)\n",
    "working_dir = \"~/Desktop/hif2gene\"\n",
    "hif_clusters = pd.read_csv(\"{0}/data/hif_clusters/pancancer.hif.clusters.csv\".format(working_dir))\n",
    "hif_clusters.shape\n",
    "hif_clusters = hif_clusters.rename(columns={\"Unnamed: 0\": \"HIF\", \"x\": \"Cluster Group\"})\n",
    "hif_clusters"
   ]
  },
  {
   "cell_type": "code",
   "execution_count": 5,
   "metadata": {},
   "outputs": [
    {
     "data": {
      "text/plain": [
       "20"
      ]
     },
     "execution_count": 5,
     "metadata": {},
     "output_type": "execute_result"
    }
   ],
   "source": [
    "# Number of unique clusters\n",
    "len(set(hif_clusters['Cluster Group']))"
   ]
  },
  {
   "cell_type": "code",
   "execution_count": 6,
   "metadata": {},
   "outputs": [],
   "source": [
    "# Generate HIF to cluster map\n",
    "hif2cluster = {}\n",
    "for ind in hif_clusters.index: \n",
    "     hif2cluster[hif_clusters['HIF'][ind]] = hif_clusters['Cluster Group'][ind]\n",
    "# hif2cluster"
   ]
  },
  {
   "cell_type": "markdown",
   "metadata": {},
   "source": [
    "# BRCA"
   ]
  },
  {
   "cell_type": "code",
   "execution_count": 7,
   "metadata": {},
   "outputs": [
    {
     "name": "stderr",
     "output_type": "stream",
     "text": [
      "/Users/jason.wang/opt/miniconda3/lib/python3.7/site-packages/IPython/core/interactiveshell.py:3063: DtypeWarning:\n",
      "\n",
      "Columns (632,654,658) have mixed types.Specify dtype option on import or set low_memory=False.\n",
      "\n"
     ]
    },
    {
     "data": {
      "text/plain": [
       "(1027, 822)"
      ]
     },
     "execution_count": 7,
     "metadata": {},
     "output_type": "execute_result"
    }
   ],
   "source": [
    "# Load in BRCA HIF + immune expression signature data\n",
    "brca_df = pd.read_csv(\"{0}/data/genetic_data/PanImmune/processed/brca.pan.immune.joined.csv\".format(working_dir))\n",
    "brca_df.shape # includes HIFs, clinical metadata, immune expression scores"
   ]
  },
  {
   "cell_type": "code",
   "execution_count": 8,
   "metadata": {},
   "outputs": [
    {
     "data": {
      "text/plain": [
       "Index(['AREA (MM2) OF [EPITHELIAL] IN [TISSUE]_HE',\n",
       "       'AREA (MM2) OF [ESI_0080] IN [TISSUE]_HE',\n",
       "       'AREA (MM2) OF [NECROSIS] IN [TISSUE]_HE',\n",
       "       'AREA (MM2) OF [STROMA] IN [TISSUE]_HE',\n",
       "       'AREA (MM2) OF [TUMOR] IN [TISSUE]_HE',\n",
       "       'AREA PROP [[EPITHELIAL] OVER [TUMOR]] IN [TISSUE]_HE',\n",
       "       'AREA PROP [[ESI_0080] OVER [TUMOR]] IN [TISSUE]_HE',\n",
       "       'AREA PROP [[STROMA] OVER [TUMOR]] IN [TISSUE]_HE',\n",
       "       'CELL CLUSTERING PROPERTIES: BALL-HALL INDEX OF CANCER IN EPITHELIAL_HE',\n",
       "       'CELL CLUSTERING PROPERTIES: BALL-HALL INDEX OF CANCER IN ESI_0080_HE',\n",
       "       ...\n",
       "       'TOTAL [LYMPHOCYTE CELLS] IN [STROMA]_HE',\n",
       "       'TOTAL [LYMPHOCYTE CELLS] IN [TUMOR]_HE',\n",
       "       'TOTAL [MACROPHAGE CELLS] IN [EPITHELIAL]_HE',\n",
       "       'TOTAL [MACROPHAGE CELLS] IN [ESI_0080]_HE',\n",
       "       'TOTAL [MACROPHAGE CELLS] IN [STROMA]_HE',\n",
       "       'TOTAL [MACROPHAGE CELLS] IN [TUMOR]_HE',\n",
       "       'TOTAL [PLASMA CELLS] IN [EPITHELIAL]_HE',\n",
       "       'TOTAL [PLASMA CELLS] IN [ESI_0080]_HE',\n",
       "       'TOTAL [PLASMA CELLS] IN [STROMA]_HE',\n",
       "       'TOTAL [PLASMA CELLS] IN [TUMOR]_HE'],\n",
       "      dtype='object', length=607)"
      ]
     },
     "execution_count": 8,
     "metadata": {},
     "output_type": "execute_result"
    }
   ],
   "source": [
    "# Extract HIF columns\n",
    "brca_hifs = brca_df.iloc[:, 4:611]\n",
    "brca_hifs.shape\n",
    "brca_hifs.columns"
   ]
  },
  {
   "cell_type": "code",
   "execution_count": 9,
   "metadata": {},
   "outputs": [
    {
     "data": {
      "text/plain": [
       "Index(['LIexpression_score', 'TGFB_score_21050467',\n",
       "       'CHANG_CORE_SERUM_RESPONSE_UP', 'IgG_19272155'],\n",
       "      dtype='object')"
      ]
     },
     "execution_count": 9,
     "metadata": {},
     "output_type": "execute_result"
    }
   ],
   "source": [
    "# Extract immune expression columns of interest\n",
    "expressions_of_interest = [\n",
    "    'LIexpression_score', # Leukocyte infiltration\n",
    "    'TGFB_score_21050467', # TGF-beta\n",
    "    'CHANG_CORE_SERUM_RESPONSE_UP', # Wound healing signature          \n",
    "    'IgG_19272155' #IgG expression\n",
    "]\n",
    "brca_expressions = brca_df[expressions_of_interest]\n",
    "brca_expressions.shape\n",
    "brca_expressions.columns"
   ]
  },
  {
   "cell_type": "code",
   "execution_count": 10,
   "metadata": {},
   "outputs": [
    {
     "data": {
      "text/plain": [
       "(1022, 611)"
      ]
     },
     "execution_count": 10,
     "metadata": {},
     "output_type": "execute_result"
    }
   ],
   "source": [
    "# Merge dataset \n",
    "brca_df_cleaned = pd.concat([brca_hifs.reset_index(drop=True), brca_expressions], axis=1)\n",
    "brca_df_cleaned.shape\n",
    "brca_df_cleaned.columns\n",
    "\n",
    "# Remove rows with high NA (missingness)\n",
    "brca_df_cleaned = brca_df_cleaned.dropna(axis=\"rows\") # as expected, 5 rows removed\n",
    "brca_df_cleaned.shape"
   ]
  },
  {
   "cell_type": "code",
   "execution_count": 11,
   "metadata": {},
   "outputs": [],
   "source": [
    "# Spearman vs. Pearson Correlation\n",
    "# Spearman: evaluate MONOTONIC relationship between two continuous variables, based on ranked values rather than raw data\n",
    "# Pearson: evaluate LINEAR relationship between two continuous variables\n",
    "brca_spearman_corr = brca_df_cleaned.corr(method='spearman')\n",
    "brca_pearson_corr = brca_df_cleaned.corr(method='pearson')"
   ]
  },
  {
   "cell_type": "code",
   "execution_count": 12,
   "metadata": {},
   "outputs": [
    {
     "data": {
      "image/png": "[encoded data removed]",
      "text/plain": [
       "<Figure size 432x288 with 1 Axes>"
      ]
     },
     "metadata": {
      "needs_background": "light"
     },
     "output_type": "display_data"
    },
    {
     "name": "stdout",
     "output_type": "stream",
     "text": [
      "Spearman: 0.3671138862707417\n",
      "Pearson: 0.36972872033735454\n"
     ]
    }
   ],
   "source": [
    "hif_name = 'COUNT PROP [CANCER CELLS] IN [[ESI_0080] OVER [EPITHELIAL]]_HE'\n",
    "y_name = 'TGFB_score_21050467'\n",
    "hif = brca_df_cleaned[hif_name]\n",
    "y = brca_df_cleaned[y_name]\n",
    "plt.scatter(hif, y, facecolors='none', edgecolors='black')\n",
    "plt.plot(np.unique(hif), np.poly1d(np.polyfit(hif, y, 1))(np.unique(hif)), color='r')\n",
    "plt.show()\n",
    "print(\"Spearman: {0}\".format(brca_spearman_corr.iloc[brca_df_cleaned.columns.get_loc(hif_name), brca_df_cleaned.columns.get_loc(y_name)]))\n",
    "print(\"Pearson: {0}\".format(brca_pearson_corr.iloc[brca_df_cleaned.columns.get_loc(hif_name), brca_df_cleaned.columns.get_loc(y_name)]))"
   ]
  },
  {
   "cell_type": "markdown",
   "metadata": {},
   "source": [
    "### Spearman Correlation Analysis"
   ]
  },
  {
   "cell_type": "code",
   "execution_count": 13,
   "metadata": {},
   "outputs": [],
   "source": [
    "# Compute Spearman correlation + generate P-value\n",
    "y_name = 'LIexpression_score'\n",
    "y = brca_df_cleaned[y_name]\n",
    "\n",
    "# Iterate through columns of HIF dataframe\n",
    "brca_df_spearman = pd.DataFrame()\n",
    "hif_cluster_groups = list(hif_clusters['Cluster Group'])\n",
    "\n",
    "for hif_name in brca_df_cleaned.iloc[:,0:607]:\n",
    "    # print(hif_name)\n",
    "    hif = brca_df_cleaned[hif_name]\n",
    "    rho, pval = stats.spearmanr(hif, y)\n",
    "    brca_df_spearman = brca_df_spearman.append(pd.DataFrame({\n",
    "        \"HIF\": [hif_name],\n",
    "        \"Rho\": [rho],\n",
    "        \"P-Value\": [pval],\n",
    "        \"Cluster Group\": [hif2cluster[hif_name]]\n",
    "    }))\n",
    "\n",
    "# Index dataframe by HIF name\n",
    "brca_df_spearman = brca_df_spearman.set_index('HIF')"
   ]
  },
  {
   "cell_type": "code",
   "execution_count": 14,
   "metadata": {},
   "outputs": [
    {
     "data": {
      "text/html": [
       "<div>\n",
       "<style scoped>\n",
       "    .dataframe tbody tr th:only-of-type {\n",
       "        vertical-align: middle;\n",
       "    }\n",
       "\n",
       "    .dataframe tbody tr th {\n",
       "        vertical-align: top;\n",
       "    }\n",
       "\n",
       "    .dataframe thead th {\n",
       "        text-align: right;\n",
       "    }\n",
       "</style>\n",
       "<table border=\"1\" class=\"dataframe\">\n",
       "  <thead>\n",
       "    <tr style=\"text-align: right;\">\n",
       "      <th></th>\n",
       "      <th>Rho</th>\n",
       "      <th>P-Value</th>\n",
       "      <th>Cluster Group</th>\n",
       "    </tr>\n",
       "    <tr>\n",
       "      <th>HIF</th>\n",
       "      <th></th>\n",
       "      <th></th>\n",
       "      <th></th>\n",
       "    </tr>\n",
       "  </thead>\n",
       "  <tbody>\n",
       "    <tr>\n",
       "      <th>COUNT PROP [[LYMPHOCYTE CELLS] OVER [CANCER CELLS]] IN [ESI_0080]_HE</th>\n",
       "      <td>0.565614</td>\n",
       "      <td>1.778490e-87</td>\n",
       "      <td>10</td>\n",
       "    </tr>\n",
       "    <tr>\n",
       "      <th>DENSITY RATIO [[LYMPHOCYTE CELLS] OVER [CANCER CELLS]] IN [ESI_0080]_HE</th>\n",
       "      <td>0.565614</td>\n",
       "      <td>1.778490e-87</td>\n",
       "      <td>10</td>\n",
       "    </tr>\n",
       "    <tr>\n",
       "      <th>COUNT PROP [[LYMPHOCYTE CELLS] OVER [CANCER CELLS]] IN [TUMOR]_HE</th>\n",
       "      <td>0.560685</td>\n",
       "      <td>1.133173e-85</td>\n",
       "      <td>10</td>\n",
       "    </tr>\n",
       "    <tr>\n",
       "      <th>DENSITY RATIO [[LYMPHOCYTE CELLS] OVER [CANCER CELLS]] IN [TUMOR]_HE</th>\n",
       "      <td>0.560685</td>\n",
       "      <td>1.133173e-85</td>\n",
       "      <td>10</td>\n",
       "    </tr>\n",
       "    <tr>\n",
       "      <th>DENSITY [LYMPHOCYTE CELLS] IN [TUMOR]_HE</th>\n",
       "      <td>0.537693</td>\n",
       "      <td>1.213335e-77</td>\n",
       "      <td>10</td>\n",
       "    </tr>\n",
       "    <tr>\n",
       "      <th>...</th>\n",
       "      <td>...</td>\n",
       "      <td>...</td>\n",
       "      <td>...</td>\n",
       "    </tr>\n",
       "    <tr>\n",
       "      <th>COUNT PROP [[[CANCER CELLS] SELECTED BY [FIBROBLAST_RADIUS_80]] OVER [[CANCER CELLS] SELECTED BY [PLASMA_RADIUS_80]]] IN [ESI_0080]_HE</th>\n",
       "      <td>-0.474868</td>\n",
       "      <td>1.320221e-58</td>\n",
       "      <td>9</td>\n",
       "    </tr>\n",
       "    <tr>\n",
       "      <th>COUNT PROP [[CANCER CELLS] OVER [[CANCER CELLS] SELECTED BY [MACROPHAGE_RADIUS_80]]] IN [ESI_0080]_HE</th>\n",
       "      <td>-0.476127</td>\n",
       "      <td>5.979956e-59</td>\n",
       "      <td>7</td>\n",
       "    </tr>\n",
       "    <tr>\n",
       "      <th>COUNT PROP [[CANCER CELLS] OVER [[CANCER CELLS] SELECTED BY [LYMPHOCYTE_RADIUS_80]]] IN [ESI_0080]_HE</th>\n",
       "      <td>-0.488055</td>\n",
       "      <td>2.800564e-62</td>\n",
       "      <td>10</td>\n",
       "    </tr>\n",
       "    <tr>\n",
       "      <th>COUNT PROP [[CANCER CELLS] OVER [[CANCER CELLS] SELECTED BY [PLASMA_RADIUS_80]]] IN [ESI_0080]_HE</th>\n",
       "      <td>-0.519446</td>\n",
       "      <td>1.069036e-71</td>\n",
       "      <td>9</td>\n",
       "    </tr>\n",
       "    <tr>\n",
       "      <th>COUNT PROP [[CANCER CELLS] OVER [[CANCER CELLS] SELECTED BY [PLASMA_RADIUS_80]]] IN [TUMOR]_HE</th>\n",
       "      <td>-0.519909</td>\n",
       "      <td>7.629059e-72</td>\n",
       "      <td>9</td>\n",
       "    </tr>\n",
       "  </tbody>\n",
       "</table>\n",
       "<p>607 rows × 3 columns</p>\n",
       "</div>"
      ],
      "text/plain": [
       "                                                         Rho       P-Value  \\\n",
       "HIF                                                                          \n",
       "COUNT PROP [[LYMPHOCYTE CELLS] OVER [CANCER CEL...  0.565614  1.778490e-87   \n",
       "DENSITY RATIO [[LYMPHOCYTE CELLS] OVER [CANCER ...  0.565614  1.778490e-87   \n",
       "COUNT PROP [[LYMPHOCYTE CELLS] OVER [CANCER CEL...  0.560685  1.133173e-85   \n",
       "DENSITY RATIO [[LYMPHOCYTE CELLS] OVER [CANCER ...  0.560685  1.133173e-85   \n",
       "DENSITY [LYMPHOCYTE CELLS] IN [TUMOR]_HE            0.537693  1.213335e-77   \n",
       "...                                                      ...           ...   \n",
       "COUNT PROP [[[CANCER CELLS] SELECTED BY [FIBROB... -0.474868  1.320221e-58   \n",
       "COUNT PROP [[CANCER CELLS] OVER [[CANCER CELLS]... -0.476127  5.979956e-59   \n",
       "COUNT PROP [[CANCER CELLS] OVER [[CANCER CELLS]... -0.488055  2.800564e-62   \n",
       "COUNT PROP [[CANCER CELLS] OVER [[CANCER CELLS]... -0.519446  1.069036e-71   \n",
       "COUNT PROP [[CANCER CELLS] OVER [[CANCER CELLS]... -0.519909  7.629059e-72   \n",
       "\n",
       "                                                    Cluster Group  \n",
       "HIF                                                                \n",
       "COUNT PROP [[LYMPHOCYTE CELLS] OVER [CANCER CEL...             10  \n",
       "DENSITY RATIO [[LYMPHOCYTE CELLS] OVER [CANCER ...             10  \n",
       "COUNT PROP [[LYMPHOCYTE CELLS] OVER [CANCER CEL...             10  \n",
       "DENSITY RATIO [[LYMPHOCYTE CELLS] OVER [CANCER ...             10  \n",
       "DENSITY [LYMPHOCYTE CELLS] IN [TUMOR]_HE                       10  \n",
       "...                                                           ...  \n",
       "COUNT PROP [[[CANCER CELLS] SELECTED BY [FIBROB...              9  \n",
       "COUNT PROP [[CANCER CELLS] OVER [[CANCER CELLS]...              7  \n",
       "COUNT PROP [[CANCER CELLS] OVER [[CANCER CELLS]...             10  \n",
       "COUNT PROP [[CANCER CELLS] OVER [[CANCER CELLS]...              9  \n",
       "COUNT PROP [[CANCER CELLS] OVER [[CANCER CELLS]...              9  \n",
       "\n",
       "[607 rows x 3 columns]"
      ]
     },
     "execution_count": 14,
     "metadata": {},
     "output_type": "execute_result"
    }
   ],
   "source": [
    "brca_df_spearman.sort_values(by=\"Rho\", ascending=False)"
   ]
  },
  {
   "cell_type": "code",
   "execution_count": 15,
   "metadata": {},
   "outputs": [],
   "source": [
    "# HIFs are highly-correlated; thus P-values are correlated / dependent\n",
    "# Apply the Empirical Brown's Method to combine P-values\n",
    "\n",
    "# Normalize (convert to z-score) matrix (required as input)\n",
    "brca_df_mu = brca_df_cleaned.iloc[:,0:607].mean().values # mean per HIF column\n",
    "brca_df_sigma = brca_df_cleaned.iloc[:,0:607].std().values # standard deviation per HIF column\n",
    "brca_df_normalized = (brca_df_cleaned.iloc[:,0:607] - brca_df_mu)/brca_df_sigma\n",
    "\n",
    "\n",
    "# Generate combined P-values within HIF clusters\n",
    "combined_pvals = cf.combine_p_values(np.array(hif_cluster_groups), brca_df_spearman, \n",
    "                                     brca_df_normalized, p_val_col='P-Value')"
   ]
  },
  {
   "cell_type": "code",
   "execution_count": 18,
   "metadata": {},
   "outputs": [],
   "source": [
    "# False discovery rate / multiple hypothesis correction via Benjamini-Hochberg\n",
    "significant, ebm_q_values = ht.bh_correction(combined_pvals, alpha=0.05) # Q-values = corrected P-values"
   ]
  },
  {
   "cell_type": "code",
   "execution_count": 16,
   "metadata": {},
   "outputs": [],
   "source": [
    "# Compute summary statistics (e.g. median / mean absolute(rho)) per HIF cluster\n",
    "summary_median = brca_df_spearman.drop('P-Value', axis=1).apply(abs).groupby('Cluster Group').median()\n",
    "summary_25th = brca_df_spearman.drop('P-Value', axis=1).apply(abs).groupby('Cluster Group').quantile(0.25)\n",
    "summary_75th = brca_df_spearman.drop('P-Value', axis=1).apply(abs).groupby('Cluster Group').quantile(0.75)\n",
    "\n",
    "# Merge stats\n",
    "summary = summary_median.join(summary_25th, lsuffix=' Median', rsuffix=' 25th Percentile')\n",
    "summary = summary.join(summary_75th, lsuffix=' a', rsuffix=' 75th Percentile')\n",
    "summary = summary.rename(columns={\"Rho\": \"Rho 75th Percentile\"})"
   ]
  },
  {
   "cell_type": "code",
   "execution_count": 19,
   "metadata": {},
   "outputs": [],
   "source": [
    "# Create corrected P-value table\n",
    "brca_combined_pvals_corrected = pd.DataFrame({\n",
    "    \"Cluster Group\": range(1, len(combined_pvals)+1),\n",
    "    \"Combined P-Value\": combined_pvals,\n",
    "    \"Q-Value\": ebm_q_values # Corrected + Combined P-Value\n",
    "})\n",
    "\n",
    "# Join summary stats\n",
    "brca_combined_pvals_corrected = brca_combined_pvals_corrected.merge(summary, on=\"Cluster Group\")"
   ]
  },
  {
   "cell_type": "code",
   "execution_count": 20,
   "metadata": {},
   "outputs": [
    {
     "data": {
      "text/html": [
       "<div>\n",
       "<style scoped>\n",
       "    .dataframe tbody tr th:only-of-type {\n",
       "        vertical-align: middle;\n",
       "    }\n",
       "\n",
       "    .dataframe tbody tr th {\n",
       "        vertical-align: top;\n",
       "    }\n",
       "\n",
       "    .dataframe thead th {\n",
       "        text-align: right;\n",
       "    }\n",
       "</style>\n",
       "<table border=\"1\" class=\"dataframe\">\n",
       "  <thead>\n",
       "    <tr style=\"text-align: right;\">\n",
       "      <th></th>\n",
       "      <th>Cluster Group</th>\n",
       "      <th>Combined P-Value</th>\n",
       "      <th>Q-Value</th>\n",
       "      <th>Rho Median</th>\n",
       "      <th>Rho 25th Percentile</th>\n",
       "      <th>Rho 75th Percentile</th>\n",
       "    </tr>\n",
       "  </thead>\n",
       "  <tbody>\n",
       "    <tr>\n",
       "      <th>9</th>\n",
       "      <td>10</td>\n",
       "      <td>2.733598e-126</td>\n",
       "      <td>1.366799e-125</td>\n",
       "      <td>0.484062</td>\n",
       "      <td>0.446869</td>\n",
       "      <td>0.506533</td>\n",
       "    </tr>\n",
       "    <tr>\n",
       "      <th>8</th>\n",
       "      <td>9</td>\n",
       "      <td>1.922878e-167</td>\n",
       "      <td>3.845755e-166</td>\n",
       "      <td>0.409944</td>\n",
       "      <td>0.364726</td>\n",
       "      <td>0.468843</td>\n",
       "    </tr>\n",
       "    <tr>\n",
       "      <th>6</th>\n",
       "      <td>7</td>\n",
       "      <td>8.967510e-142</td>\n",
       "      <td>8.967510e-141</td>\n",
       "      <td>0.372025</td>\n",
       "      <td>0.332759</td>\n",
       "      <td>0.426051</td>\n",
       "    </tr>\n",
       "    <tr>\n",
       "      <th>7</th>\n",
       "      <td>8</td>\n",
       "      <td>1.567565e-135</td>\n",
       "      <td>1.045043e-134</td>\n",
       "      <td>0.329476</td>\n",
       "      <td>0.134380</td>\n",
       "      <td>0.373843</td>\n",
       "    </tr>\n",
       "    <tr>\n",
       "      <th>3</th>\n",
       "      <td>4</td>\n",
       "      <td>3.460806e-45</td>\n",
       "      <td>9.888018e-45</td>\n",
       "      <td>0.154271</td>\n",
       "      <td>0.106126</td>\n",
       "      <td>0.189890</td>\n",
       "    </tr>\n",
       "    <tr>\n",
       "      <th>11</th>\n",
       "      <td>12</td>\n",
       "      <td>1.243024e-18</td>\n",
       "      <td>2.486049e-18</td>\n",
       "      <td>0.152515</td>\n",
       "      <td>0.119731</td>\n",
       "      <td>0.187261</td>\n",
       "    </tr>\n",
       "    <tr>\n",
       "      <th>12</th>\n",
       "      <td>13</td>\n",
       "      <td>1.550115e-72</td>\n",
       "      <td>6.200461e-72</td>\n",
       "      <td>0.135921</td>\n",
       "      <td>0.070120</td>\n",
       "      <td>0.300308</td>\n",
       "    </tr>\n",
       "    <tr>\n",
       "      <th>14</th>\n",
       "      <td>15</td>\n",
       "      <td>4.174291e-47</td>\n",
       "      <td>1.391430e-46</td>\n",
       "      <td>0.089172</td>\n",
       "      <td>0.043410</td>\n",
       "      <td>0.221264</td>\n",
       "    </tr>\n",
       "    <tr>\n",
       "      <th>5</th>\n",
       "      <td>6</td>\n",
       "      <td>1.939661e-25</td>\n",
       "      <td>4.849152e-25</td>\n",
       "      <td>0.089169</td>\n",
       "      <td>0.034076</td>\n",
       "      <td>0.145220</td>\n",
       "    </tr>\n",
       "    <tr>\n",
       "      <th>0</th>\n",
       "      <td>1</td>\n",
       "      <td>4.972053e-10</td>\n",
       "      <td>7.649313e-10</td>\n",
       "      <td>0.084149</td>\n",
       "      <td>0.022950</td>\n",
       "      <td>0.190758</td>\n",
       "    </tr>\n",
       "    <tr>\n",
       "      <th>2</th>\n",
       "      <td>3</td>\n",
       "      <td>2.695699e-12</td>\n",
       "      <td>4.901270e-12</td>\n",
       "      <td>0.077705</td>\n",
       "      <td>0.022452</td>\n",
       "      <td>0.116692</td>\n",
       "    </tr>\n",
       "    <tr>\n",
       "      <th>15</th>\n",
       "      <td>16</td>\n",
       "      <td>4.094500e-12</td>\n",
       "      <td>6.824167e-12</td>\n",
       "      <td>0.073256</td>\n",
       "      <td>0.027909</td>\n",
       "      <td>0.097806</td>\n",
       "    </tr>\n",
       "    <tr>\n",
       "      <th>10</th>\n",
       "      <td>11</td>\n",
       "      <td>2.127273e-22</td>\n",
       "      <td>4.727274e-22</td>\n",
       "      <td>0.069957</td>\n",
       "      <td>0.050318</td>\n",
       "      <td>0.107156</td>\n",
       "    </tr>\n",
       "    <tr>\n",
       "      <th>4</th>\n",
       "      <td>5</td>\n",
       "      <td>2.312329e-03</td>\n",
       "      <td>3.303327e-03</td>\n",
       "      <td>0.047090</td>\n",
       "      <td>0.024443</td>\n",
       "      <td>0.066744</td>\n",
       "    </tr>\n",
       "    <tr>\n",
       "      <th>18</th>\n",
       "      <td>19</td>\n",
       "      <td>4.708797e-02</td>\n",
       "      <td>5.885996e-02</td>\n",
       "      <td>0.040009</td>\n",
       "      <td>0.024117</td>\n",
       "      <td>0.066301</td>\n",
       "    </tr>\n",
       "    <tr>\n",
       "      <th>1</th>\n",
       "      <td>2</td>\n",
       "      <td>1.266329e-01</td>\n",
       "      <td>1.489799e-01</td>\n",
       "      <td>0.036842</td>\n",
       "      <td>0.017302</td>\n",
       "      <td>0.049814</td>\n",
       "    </tr>\n",
       "    <tr>\n",
       "      <th>13</th>\n",
       "      <td>14</td>\n",
       "      <td>3.546180e-02</td>\n",
       "      <td>4.728240e-02</td>\n",
       "      <td>0.028380</td>\n",
       "      <td>0.015465</td>\n",
       "      <td>0.050008</td>\n",
       "    </tr>\n",
       "    <tr>\n",
       "      <th>19</th>\n",
       "      <td>20</td>\n",
       "      <td>2.475953e-01</td>\n",
       "      <td>2.751059e-01</td>\n",
       "      <td>0.024352</td>\n",
       "      <td>0.018520</td>\n",
       "      <td>0.038112</td>\n",
       "    </tr>\n",
       "    <tr>\n",
       "      <th>16</th>\n",
       "      <td>17</td>\n",
       "      <td>2.866597e-01</td>\n",
       "      <td>3.017471e-01</td>\n",
       "      <td>0.022102</td>\n",
       "      <td>0.011525</td>\n",
       "      <td>0.045105</td>\n",
       "    </tr>\n",
       "    <tr>\n",
       "      <th>17</th>\n",
       "      <td>18</td>\n",
       "      <td>3.803206e-01</td>\n",
       "      <td>3.803206e-01</td>\n",
       "      <td>0.010930</td>\n",
       "      <td>0.007800</td>\n",
       "      <td>0.034413</td>\n",
       "    </tr>\n",
       "  </tbody>\n",
       "</table>\n",
       "</div>"
      ],
      "text/plain": [
       "    Cluster Group  Combined P-Value        Q-Value  Rho Median  \\\n",
       "9              10     2.733598e-126  1.366799e-125    0.484062   \n",
       "8               9     1.922878e-167  3.845755e-166    0.409944   \n",
       "6               7     8.967510e-142  8.967510e-141    0.372025   \n",
       "7               8     1.567565e-135  1.045043e-134    0.329476   \n",
       "3               4      3.460806e-45   9.888018e-45    0.154271   \n",
       "11             12      1.243024e-18   2.486049e-18    0.152515   \n",
       "12             13      1.550115e-72   6.200461e-72    0.135921   \n",
       "14             15      4.174291e-47   1.391430e-46    0.089172   \n",
       "5               6      1.939661e-25   4.849152e-25    0.089169   \n",
       "0               1      4.972053e-10   7.649313e-10    0.084149   \n",
       "2               3      2.695699e-12   4.901270e-12    0.077705   \n",
       "15             16      4.094500e-12   6.824167e-12    0.073256   \n",
       "10             11      2.127273e-22   4.727274e-22    0.069957   \n",
       "4               5      2.312329e-03   3.303327e-03    0.047090   \n",
       "18             19      4.708797e-02   5.885996e-02    0.040009   \n",
       "1               2      1.266329e-01   1.489799e-01    0.036842   \n",
       "13             14      3.546180e-02   4.728240e-02    0.028380   \n",
       "19             20      2.475953e-01   2.751059e-01    0.024352   \n",
       "16             17      2.866597e-01   3.017471e-01    0.022102   \n",
       "17             18      3.803206e-01   3.803206e-01    0.010930   \n",
       "\n",
       "    Rho 25th Percentile  Rho 75th Percentile  \n",
       "9              0.446869             0.506533  \n",
       "8              0.364726             0.468843  \n",
       "6              0.332759             0.426051  \n",
       "7              0.134380             0.373843  \n",
       "3              0.106126             0.189890  \n",
       "11             0.119731             0.187261  \n",
       "12             0.070120             0.300308  \n",
       "14             0.043410             0.221264  \n",
       "5              0.034076             0.145220  \n",
       "0              0.022950             0.190758  \n",
       "2              0.022452             0.116692  \n",
       "15             0.027909             0.097806  \n",
       "10             0.050318             0.107156  \n",
       "4              0.024443             0.066744  \n",
       "18             0.024117             0.066301  \n",
       "1              0.017302             0.049814  \n",
       "13             0.015465             0.050008  \n",
       "19             0.018520             0.038112  \n",
       "16             0.011525             0.045105  \n",
       "17             0.007800             0.034413  "
      ]
     },
     "execution_count": 20,
     "metadata": {},
     "output_type": "execute_result"
    }
   ],
   "source": [
    "brca_combined_pvals_corrected.sort_values(by=\"Rho Median\", ascending=False)"
   ]
  },
  {
   "cell_type": "code",
   "execution_count": null,
   "metadata": {},
   "outputs": [],
   "source": []
  }
 ],
 "metadata": {
  "kernelspec": {
   "display_name": "Python 3",
   "language": "python",
   "name": "python3"
  },
  "language_info": {
   "codemirror_mode": {
    "name": "ipython",
    "version": 3
   },
   "file_extension": ".py",
   "mimetype": "text/x-python",
   "name": "python",
   "nbconvert_exporter": "python",
   "pygments_lexer": "ipython3",
   "version": "3.7.4"
  }
 },
 "nbformat": 4,
 "nbformat_minor": 4
}
